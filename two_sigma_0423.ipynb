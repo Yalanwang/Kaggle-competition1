{
 "cells": [
  {
   "cell_type": "code",
   "execution_count": 41,
   "metadata": {
    "collapsed": true
   },
   "outputs": [],
   "source": [
    "import pandas as pd\n",
    "\n",
    "train_data = pd.read_json(\"F:/graduate study/semester2/660/final project/train.json\")\n",
    "test_data = pd.read_json(\"F:/graduate study/semester2/660/final project/test.json\")"
   ]
  },
  {
   "cell_type": "code",
   "execution_count": 42,
   "metadata": {
    "collapsed": true
   },
   "outputs": [],
   "source": [
    "import xgboost as xgb\n",
    "\n",
    "def runXGB(train_X, train_y, test_X, test_y=None, feature_names=None, seed_val=321, num_rounds=2000):\n",
    "    param = {}\n",
    "    param['objective'] = 'multi:softprob'\n",
    "    param['eta'] = 0.02\n",
    "    param['max_depth'] = 6\n",
    "    param['silent'] = 1\n",
    "    param['num_class'] = 3\n",
    "    param['eval_metric'] = \"mlogloss\"\n",
    "    param['min_child_weight'] = 1\n",
    "    param['subsample'] = 0.7\n",
    "    param['colsample_bytree'] = 0.7\n",
    "    param['seed'] = seed_val\n",
    "    num_rounds = num_rounds\n",
    "\n",
    "    plst = list(param.items())\n",
    "    xgtrain = xgb.DMatrix(train_X, label=train_y)\n",
    "\n",
    "    if test_y is not None:\n",
    "        xgtest = xgb.DMatrix(test_X, label=test_y)\n",
    "        watchlist = [ (xgtrain,'train'), (xgtest, 'test') ]\n",
    "        model = xgb.train(plst, xgtrain, num_rounds, watchlist, early_stopping_rounds=20)\n",
    "    else:\n",
    "        xgtest = xgb.DMatrix(test_X)\n",
    "        model = xgb.train(plst, xgtrain, num_rounds)\n",
    "\n",
    "    pred_test_y = model.predict(xgtest)\n",
    "    return pred_test_y, model"
   ]
  },
  {
   "cell_type": "code",
   "execution_count": 43,
   "metadata": {
    "collapsed": true
   },
   "outputs": [],
   "source": [
    "# Deal with the created date\n",
    "import pandas as pd\n",
    "from datetime import datetime\n",
    "\n",
    "\n",
    "train_date = train_data['created']\n",
    "test_date = test_data['created']\n",
    "\n",
    "now = datetime.now()\n",
    "\n",
    "train_datetime = pd.to_datetime(train_date)\n",
    "test_datetime = pd.to_datetime(test_date)\n",
    "\n",
    "train_time = now - train_datetime\n",
    "test_time = now - test_datetime\n",
    "train_days = train_time.astype('timedelta64[D]')\n",
    "test_days = test_time.astype('timedelta64[D]')\n",
    "train_data['created_new'] = pd.DataFrame(train_days)\n",
    "test_data['created_new'] = pd.DataFrame(test_days)"
   ]
  },
  {
   "cell_type": "code",
   "execution_count": 44,
   "metadata": {
    "collapsed": true
   },
   "outputs": [],
   "source": [
    "import numpy as np\n",
    "\n",
    "test_data[\"bathrooms\"].loc[19671] = 1.5\n",
    "test_data[\"bathrooms\"].loc[22977] = 2.0\n",
    "test_data[\"bathrooms\"].loc[63719] = 2.0\n",
    "train_data[\"price\"] = train_data[\"price\"].clip(upper=13000)\n",
    "\n",
    "train_data[\"logprice\"] = np.log(train_data[\"price\"])\n",
    "test_data[\"logprice\"] = np.log(test_data[\"price\"])\n",
    "\n",
    "train_data[\"price_t\"] =train_data[\"price\"]/train_data[\"bedrooms\"]\n",
    "test_data[\"price_t\"] = test_data[\"price\"]/test_data[\"bedrooms\"] \n",
    "\n",
    "train_data[\"room_sum\"] = train_data[\"bedrooms\"]+train_data[\"bathrooms\"] \n",
    "test_data[\"room_sum\"] = test_data[\"bedrooms\"]+test_data[\"bathrooms\"] \n",
    "\n",
    "train_data['price_per_room'] = train_data['price']/train_data['room_sum']\n",
    "test_data['price_per_room'] = test_data['price']/test_data['room_sum']\n",
    "\n",
    "train_data[\"num_photos\"] = train_data[\"photos\"].apply(len)\n",
    "test_data[\"num_photos\"] = test_data[\"photos\"].apply(len)\n",
    "\n",
    "train_data[\"num_features\"] = train_data[\"features\"].apply(len)\n",
    "test_data[\"num_features\"] = test_data[\"features\"].apply(len)\n",
    "\n",
    "train_data[\"num_description_words\"] = train_data[\"description\"].apply(lambda x: len(x.split(\" \")))\n",
    "test_data[\"num_description_words\"] = test_data[\"description\"].apply(lambda x: len(x.split(\" \")))\n",
    "\n",
    "train_data[\"created\"] = pd.to_datetime(train_data[\"created\"])\n",
    "test_data[\"created\"] = pd.to_datetime(test_data[\"created\"])\n",
    "train_data[\"created_year\"] = train_data[\"created\"].dt.year\n",
    "test_data[\"created_year\"] = test_data[\"created\"].dt.year\n",
    "train_data[\"created_month\"] = train_data[\"created\"].dt.month\n",
    "test_data[\"created_month\"] = test_data[\"created\"].dt.month\n",
    "train_data[\"created_day\"] = train_data[\"created\"].dt.day\n",
    "test_data[\"created_day\"] = test_data[\"created\"].dt.day\n",
    "train_data[\"created_hour\"] = train_data[\"created\"].dt.hour\n",
    "test_data[\"created_hour\"] = test_data[\"created\"].dt.hour"
   ]
  },
  {
   "cell_type": "code",
   "execution_count": 45,
   "metadata": {
    "collapsed": false
   },
   "outputs": [],
   "source": [
    "train_data[\"pos\"] = train_data.longitude.round(3).astype(str) + '_' + train_data.latitude.round(3).astype(str)\n",
    "test_data[\"pos\"] = test_data.longitude.round(3).astype(str) + '_' + test_data.latitude.round(3).astype(str)\n",
    "\n",
    "vals = train_data['pos'].value_counts()\n",
    "dvals = vals.to_dict()\n",
    "train_data[\"density\"] = train_data['pos'].apply(lambda x: dvals.get(x, vals.min()))\n",
    "test_data[\"density\"] = test_data['pos'].apply(lambda x: dvals.get(x, vals.min()))"
   ]
  },
  {
   "cell_type": "code",
   "execution_count": 46,
   "metadata": {
    "collapsed": true
   },
   "outputs": [],
   "source": [
    "features_to_use=[\"bathrooms\", \"bedrooms\", \"latitude\", \"longitude\", \"price\",\"price_t\",\"price_per_room\", \"logprice\", \"density\",\n",
    "\"num_photos\", \"num_features\", \"num_description_words\",\"listing_id\", \"created_year\", \"created_month\", \"created_day\", \"created_hour\",\"created_new\"]"
   ]
  },
  {
   "cell_type": "code",
   "execution_count": 47,
   "metadata": {
    "collapsed": true
   },
   "outputs": [],
   "source": [
    "test_data[\"bathrooms\"].loc[19671] = 1.5\n",
    "test_data[\"bathrooms\"].loc[22977] = 2.0\n",
    "test_data[\"bathrooms\"].loc[63719] = 2.0\n",
    "train_data[\"price\"] = train_data[\"price\"].clip(upper=13000)"
   ]
  },
  {
   "cell_type": "code",
   "execution_count": 48,
   "metadata": {
    "collapsed": true
   },
   "outputs": [],
   "source": [
    "import random\n",
    "from sklearn.preprocessing import LabelEncoder\n",
    "\n",
    "index=list(range(train_data.shape[0]))\n",
    "random.shuffle(index)\n",
    "a=[np.nan]*len(train_data)\n",
    "b=[np.nan]*len(train_data)\n",
    "c=[np.nan]*len(train_data)\n",
    "\n",
    "for i in range(5):\n",
    "    building_level={}\n",
    "    for j in train_data['manager_id'].values:\n",
    "        building_level[j]=[0,0,0]\n",
    "    \n",
    "    test_index=index[int((i*train_data.shape[0])/5):int(((i+1)*train_data.shape[0])/5)]\n",
    "    train_index=list(set(index).difference(test_index))\n",
    "    \n",
    "    for j in train_index:\n",
    "        temp=train_data.iloc[j]\n",
    "        if temp['interest_level']=='low':\n",
    "            building_level[temp['manager_id']][0]+=1\n",
    "        if temp['interest_level']=='medium':\n",
    "            building_level[temp['manager_id']][1]+=1\n",
    "        if temp['interest_level']=='high':\n",
    "            building_level[temp['manager_id']][2]+=1\n",
    "            \n",
    "    for j in test_index:\n",
    "        temp=train_data.iloc[j]\n",
    "        if sum(building_level[temp['manager_id']])!=0:\n",
    "            a[j]=building_level[temp['manager_id']][0]*1.0/sum(building_level[temp['manager_id']])\n",
    "            b[j]=building_level[temp['manager_id']][1]*1.0/sum(building_level[temp['manager_id']])\n",
    "            c[j]=building_level[temp['manager_id']][2]*1.0/sum(building_level[temp['manager_id']])\n",
    "            \n",
    "train_data['manager_level_low']=a\n",
    "train_data['manager_level_medium']=b\n",
    "train_data['manager_level_high']=c"
   ]
  },
  {
   "cell_type": "code",
   "execution_count": 49,
   "metadata": {
    "collapsed": true
   },
   "outputs": [],
   "source": [
    "a=[]\n",
    "b=[]\n",
    "c=[]\n",
    "building_level={}\n",
    "for j in train_data['manager_id'].values:\n",
    "    building_level[j]=[0,0,0]\n",
    "\n",
    "for j in range(train_data.shape[0]):\n",
    "    temp=train_data.iloc[j]\n",
    "    if temp['interest_level']=='low':\n",
    "        building_level[temp['manager_id']][0]+=1\n",
    "    if temp['interest_level']=='medium':\n",
    "        building_level[temp['manager_id']][1]+=1\n",
    "    if temp['interest_level']=='high':\n",
    "        building_level[temp['manager_id']][2]+=1\n",
    "\n",
    "for i in test_data['manager_id'].values:\n",
    "    if i not in building_level.keys():\n",
    "        a.append(np.nan)\n",
    "        b.append(np.nan)\n",
    "        c.append(np.nan)\n",
    "    else:\n",
    "        a.append(building_level[i][0] * 1.0 / sum(building_level[i]))\n",
    "        b.append(building_level[i][1] * 1.0 / sum(building_level[i]))\n",
    "        c.append(building_level[i][2] * 1.0 / sum(building_level[i]))\n",
    "test_data['manager_level_low']=a\n",
    "test_data['manager_level_medium']=b\n",
    "test_data['manager_level_high']=c"
   ]
  },
  {
   "cell_type": "code",
   "execution_count": 50,
   "metadata": {
    "collapsed": true
   },
   "outputs": [],
   "source": [
    "features_to_use.append('manager_level_low') \n",
    "features_to_use.append('manager_level_medium') \n",
    "features_to_use.append('manager_level_high')"
   ]
  },
  {
   "cell_type": "code",
   "execution_count": 51,
   "metadata": {
    "collapsed": false
   },
   "outputs": [
    {
     "data": {
      "text/plain": [
       "['bathrooms',\n",
       " 'bedrooms',\n",
       " 'latitude',\n",
       " 'longitude',\n",
       " 'price',\n",
       " 'price_t',\n",
       " 'price_per_room',\n",
       " 'logprice',\n",
       " 'density',\n",
       " 'num_photos',\n",
       " 'num_features',\n",
       " 'num_description_words',\n",
       " 'listing_id',\n",
       " 'created_year',\n",
       " 'created_month',\n",
       " 'created_day',\n",
       " 'created_hour',\n",
       " 'created_new',\n",
       " 'manager_level_low',\n",
       " 'manager_level_medium',\n",
       " 'manager_level_high']"
      ]
     },
     "execution_count": 51,
     "metadata": {},
     "output_type": "execute_result"
    }
   ],
   "source": [
    "features_to_use"
   ]
  },
  {
   "cell_type": "code",
   "execution_count": 52,
   "metadata": {
    "collapsed": true
   },
   "outputs": [],
   "source": [
    "categorical = [\"display_address\", \"manager_id\", \"building_id\"]\n",
    "for f in categorical:\n",
    "        if train_data[f].dtype=='object':\n",
    "            lbl = LabelEncoder()\n",
    "            lbl.fit(list(train_data[f].values) + list(test_data[f].values))\n",
    "            train_data[f] = lbl.transform(list(train_data[f].values))\n",
    "            test_data[f] = lbl.transform(list(test_data[f].values))\n",
    "            features_to_use.append(f)"
   ]
  },
  {
   "cell_type": "code",
   "execution_count": 54,
   "metadata": {
    "collapsed": false
   },
   "outputs": [
    {
     "data": {
      "text/html": [
       "<div>\n",
       "<table border=\"1\" class=\"dataframe\">\n",
       "  <thead>\n",
       "    <tr style=\"text-align: right;\">\n",
       "      <th></th>\n",
       "      <th>bathrooms</th>\n",
       "      <th>bedrooms</th>\n",
       "      <th>latitude</th>\n",
       "      <th>longitude</th>\n",
       "      <th>price</th>\n",
       "      <th>price_t</th>\n",
       "      <th>price_per_room</th>\n",
       "      <th>logprice</th>\n",
       "      <th>density</th>\n",
       "      <th>num_photos</th>\n",
       "      <th>...</th>\n",
       "      <th>created_month</th>\n",
       "      <th>created_day</th>\n",
       "      <th>created_hour</th>\n",
       "      <th>created_new</th>\n",
       "      <th>manager_level_low</th>\n",
       "      <th>manager_level_medium</th>\n",
       "      <th>manager_level_high</th>\n",
       "      <th>display_address</th>\n",
       "      <th>manager_id</th>\n",
       "      <th>building_id</th>\n",
       "    </tr>\n",
       "  </thead>\n",
       "  <tbody>\n",
       "    <tr>\n",
       "      <th>10</th>\n",
       "      <td>1.5</td>\n",
       "      <td>3</td>\n",
       "      <td>40.7145</td>\n",
       "      <td>-73.9425</td>\n",
       "      <td>3000</td>\n",
       "      <td>1000.0</td>\n",
       "      <td>666.666667</td>\n",
       "      <td>8.006368</td>\n",
       "      <td>5</td>\n",
       "      <td>5</td>\n",
       "      <td>...</td>\n",
       "      <td>6</td>\n",
       "      <td>24</td>\n",
       "      <td>7</td>\n",
       "      <td>303.0</td>\n",
       "      <td>0.767123</td>\n",
       "      <td>0.232877</td>\n",
       "      <td>0.000000</td>\n",
       "      <td>12282</td>\n",
       "      <td>1568</td>\n",
       "      <td>3797</td>\n",
       "    </tr>\n",
       "    <tr>\n",
       "      <th>10000</th>\n",
       "      <td>1.0</td>\n",
       "      <td>2</td>\n",
       "      <td>40.7947</td>\n",
       "      <td>-73.9667</td>\n",
       "      <td>5465</td>\n",
       "      <td>2732.5</td>\n",
       "      <td>1821.666667</td>\n",
       "      <td>8.606119</td>\n",
       "      <td>62</td>\n",
       "      <td>11</td>\n",
       "      <td>...</td>\n",
       "      <td>6</td>\n",
       "      <td>12</td>\n",
       "      <td>12</td>\n",
       "      <td>315.0</td>\n",
       "      <td>0.984375</td>\n",
       "      <td>0.015625</td>\n",
       "      <td>0.000000</td>\n",
       "      <td>9080</td>\n",
       "      <td>1988</td>\n",
       "      <td>8986</td>\n",
       "    </tr>\n",
       "    <tr>\n",
       "      <th>100004</th>\n",
       "      <td>1.0</td>\n",
       "      <td>1</td>\n",
       "      <td>40.7388</td>\n",
       "      <td>-74.0018</td>\n",
       "      <td>2850</td>\n",
       "      <td>2850.0</td>\n",
       "      <td>1425.000000</td>\n",
       "      <td>7.955074</td>\n",
       "      <td>92</td>\n",
       "      <td>8</td>\n",
       "      <td>...</td>\n",
       "      <td>4</td>\n",
       "      <td>17</td>\n",
       "      <td>3</td>\n",
       "      <td>371.0</td>\n",
       "      <td>0.539216</td>\n",
       "      <td>0.401961</td>\n",
       "      <td>0.058824</td>\n",
       "      <td>13719</td>\n",
       "      <td>3733</td>\n",
       "      <td>8889</td>\n",
       "    </tr>\n",
       "    <tr>\n",
       "      <th>100007</th>\n",
       "      <td>1.0</td>\n",
       "      <td>1</td>\n",
       "      <td>40.7539</td>\n",
       "      <td>-73.9677</td>\n",
       "      <td>3275</td>\n",
       "      <td>3275.0</td>\n",
       "      <td>1637.500000</td>\n",
       "      <td>8.094073</td>\n",
       "      <td>144</td>\n",
       "      <td>3</td>\n",
       "      <td>...</td>\n",
       "      <td>4</td>\n",
       "      <td>18</td>\n",
       "      <td>2</td>\n",
       "      <td>370.0</td>\n",
       "      <td>0.790850</td>\n",
       "      <td>0.143791</td>\n",
       "      <td>0.065359</td>\n",
       "      <td>10866</td>\n",
       "      <td>282</td>\n",
       "      <td>1848</td>\n",
       "    </tr>\n",
       "    <tr>\n",
       "      <th>100013</th>\n",
       "      <td>1.0</td>\n",
       "      <td>4</td>\n",
       "      <td>40.8241</td>\n",
       "      <td>-73.9493</td>\n",
       "      <td>3350</td>\n",
       "      <td>837.5</td>\n",
       "      <td>670.000000</td>\n",
       "      <td>8.116716</td>\n",
       "      <td>5</td>\n",
       "      <td>3</td>\n",
       "      <td>...</td>\n",
       "      <td>4</td>\n",
       "      <td>28</td>\n",
       "      <td>1</td>\n",
       "      <td>360.0</td>\n",
       "      <td>1.000000</td>\n",
       "      <td>0.000000</td>\n",
       "      <td>0.000000</td>\n",
       "      <td>15072</td>\n",
       "      <td>2618</td>\n",
       "      <td>0</td>\n",
       "    </tr>\n",
       "  </tbody>\n",
       "</table>\n",
       "<p>5 rows × 24 columns</p>\n",
       "</div>"
      ],
      "text/plain": [
       "        bathrooms  bedrooms  latitude  longitude  price  price_t  \\\n",
       "10            1.5         3   40.7145   -73.9425   3000   1000.0   \n",
       "10000         1.0         2   40.7947   -73.9667   5465   2732.5   \n",
       "100004        1.0         1   40.7388   -74.0018   2850   2850.0   \n",
       "100007        1.0         1   40.7539   -73.9677   3275   3275.0   \n",
       "100013        1.0         4   40.8241   -73.9493   3350    837.5   \n",
       "\n",
       "        price_per_room  logprice  density  num_photos     ...       \\\n",
       "10          666.666667  8.006368        5           5     ...        \n",
       "10000      1821.666667  8.606119       62          11     ...        \n",
       "100004     1425.000000  7.955074       92           8     ...        \n",
       "100007     1637.500000  8.094073      144           3     ...        \n",
       "100013      670.000000  8.116716        5           3     ...        \n",
       "\n",
       "        created_month  created_day  created_hour  created_new  \\\n",
       "10                  6           24             7        303.0   \n",
       "10000               6           12            12        315.0   \n",
       "100004              4           17             3        371.0   \n",
       "100007              4           18             2        370.0   \n",
       "100013              4           28             1        360.0   \n",
       "\n",
       "        manager_level_low  manager_level_medium  manager_level_high  \\\n",
       "10               0.767123              0.232877            0.000000   \n",
       "10000            0.984375              0.015625            0.000000   \n",
       "100004           0.539216              0.401961            0.058824   \n",
       "100007           0.790850              0.143791            0.065359   \n",
       "100013           1.000000              0.000000            0.000000   \n",
       "\n",
       "        display_address  manager_id  building_id  \n",
       "10                12282        1568         3797  \n",
       "10000              9080        1988         8986  \n",
       "100004            13719        3733         8889  \n",
       "100007            10866         282         1848  \n",
       "100013            15072        2618            0  \n",
       "\n",
       "[5 rows x 24 columns]"
      ]
     },
     "execution_count": 54,
     "metadata": {},
     "output_type": "execute_result"
    }
   ],
   "source": [
    "train_data[features_to_use].head()"
   ]
  },
  {
   "cell_type": "code",
   "execution_count": 55,
   "metadata": {
    "collapsed": false
   },
   "outputs": [
    {
     "data": {
      "text/plain": [
       "10        1\n",
       "10000     0\n",
       "100004    2\n",
       "100007    0\n",
       "100013    0\n",
       "Name: interest_level, dtype: int64"
      ]
     },
     "execution_count": 55,
     "metadata": {},
     "output_type": "execute_result"
    }
   ],
   "source": [
    "train_data['interest_level'] = train_data['interest_level'].map({'low': 0, 'medium': 1,'high':2})\n",
    "train_data['interest_level'].head()"
   ]
  },
  {
   "cell_type": "code",
   "execution_count": 61,
   "metadata": {
    "collapsed": false
   },
   "outputs": [],
   "source": [
    "train_y = train_data['interest_level']\n",
    "train_x = train_data[features_to_use]\n",
    "test_x = test_data[features_to_use]"
   ]
  },
  {
   "cell_type": "code",
   "execution_count": 63,
   "metadata": {
    "collapsed": false
   },
   "outputs": [],
   "source": [
    "preds, model = runXGB(train_x, train_y, test_x, num_rounds=2000)\n",
    "out_df = pd.DataFrame(preds)\n",
    "out_df.columns = [\"high\", \"medium\", \"low\"]\n",
    "out_df[\"listing_id\"] = test_data.listing_id.values\n",
    "out_df.to_csv(\"sub.csv\", index=False)\n"
   ]
  },
  {
   "cell_type": "code",
   "execution_count": null,
   "metadata": {
    "collapsed": true
   },
   "outputs": [],
   "source": []
  }
 ],
 "metadata": {
  "kernelspec": {
   "display_name": "Python 3",
   "language": "python",
   "name": "python3"
  },
  "language_info": {
   "codemirror_mode": {
    "name": "ipython",
    "version": 3
   },
   "file_extension": ".py",
   "mimetype": "text/x-python",
   "name": "python",
   "nbconvert_exporter": "python",
   "pygments_lexer": "ipython3",
   "version": "3.6.0"
  }
 },
 "nbformat": 4,
 "nbformat_minor": 2
}
