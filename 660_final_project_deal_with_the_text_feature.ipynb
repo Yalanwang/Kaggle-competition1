{
 "cells": [
  {
   "cell_type": "code",
   "execution_count": 1,
   "metadata": {
    "collapsed": true
   },
   "outputs": [],
   "source": [
    "import pandas as pd\n",
    "\n",
    "\n",
    "train_file = pd.read_json(\"F:/graduate study/semester2/660/final project/train.json\")\n",
    "test_file = pd.read_json(\"F:/graduate study/semester2/660/final project/test.json\")\n",
    "\n",
    "train_data = pd.DataFrame(train_file)"
   ]
  },
  {
   "cell_type": "code",
   "execution_count": 2,
   "metadata": {
    "collapsed": false
   },
   "outputs": [],
   "source": [
    "import re\n",
    "from nltk.corpus import stopwords\n",
    "from operator import itemgetter\n",
    "from nltk.tokenize import sent_tokenize\n",
    "\n",
    "freq = {}\n",
    "stopLex=set(stopwords.words('english'))\n",
    "\n",
    "Des = train_data[\"description\"]\n"
   ]
  },
  {
   "cell_type": "code",
   "execution_count": 3,
   "metadata": {
    "collapsed": false
   },
   "outputs": [],
   "source": [
    "from nltk.stem import PorterStemmer\n",
    "import re\n",
    "\n",
    "stemmer = PorterStemmer()\n",
    "Des = train_data[\"description\"]\n",
    "\n",
    "def clean(x):\n",
    "    regex = re.compile('[^a-zA-Z ]')\n",
    "    # For user clarity, broken it into three steps\n",
    "    i = regex.sub(' ',x).lower()\n",
    "    i = i.split(\" \") \n",
    "    i= [stemmer.stem(l) for l in i]\n",
    "    i= \" \".join([l.strip() for l in i if (len(l)>2) ]) # Keeping words that have length greater than 2\n",
    "    return i\n",
    "\n",
    "Des_new = Des.apply(clean)"
   ]
  },
  {
   "cell_type": "code",
   "execution_count": 4,
   "metadata": {
    "collapsed": true
   },
   "outputs": [],
   "source": [
    "import nltk\n",
    "\n",
    "def get_token_words(x):\n",
    "    tokens = nltk.word_tokenize(x)\n",
    "    return tokens\n",
    "token_word = Des_new.apply(get_token_words)"
   ]
  },
  {
   "cell_type": "code",
   "execution_count": 5,
   "metadata": {
    "collapsed": false
   },
   "outputs": [],
   "source": [
    "# token_word"
   ]
  },
  {
   "cell_type": "code",
   "execution_count": 6,
   "metadata": {
    "collapsed": false
   },
   "outputs": [
    {
     "data": {
      "text/plain": [
       "10        {'brand': 6174, 'new': 27773, 'bedroom': 36137...\n",
       "10000     {'brand': 6174, 'new': 27773, 'bedroom': 36137...\n",
       "100004    {'brand': 6174, 'new': 27773, 'bedroom': 36137...\n",
       "100007    {'brand': 6174, 'new': 27773, 'bedroom': 36137...\n",
       "100013    {'brand': 6174, 'new': 27773, 'bedroom': 36137...\n",
       "100014    {'brand': 6174, 'new': 27773, 'bedroom': 36137...\n",
       "100016    {'brand': 6174, 'new': 27773, 'bedroom': 36137...\n",
       "100020    {'brand': 6174, 'new': 27773, 'bedroom': 36137...\n",
       "100026    {'brand': 6174, 'new': 27773, 'bedroom': 36137...\n",
       "100027    {'brand': 6174, 'new': 27773, 'bedroom': 36137...\n",
       "100030    {'brand': 6174, 'new': 27773, 'bedroom': 36137...\n",
       "10004     {'brand': 6174, 'new': 27773, 'bedroom': 36137...\n",
       "100044    {'brand': 6174, 'new': 27773, 'bedroom': 36137...\n",
       "100048    {'brand': 6174, 'new': 27773, 'bedroom': 36137...\n",
       "10005     {'brand': 6174, 'new': 27773, 'bedroom': 36137...\n",
       "100051    {'brand': 6174, 'new': 27773, 'bedroom': 36137...\n",
       "100052    {'brand': 6174, 'new': 27773, 'bedroom': 36137...\n",
       "100053    {'brand': 6174, 'new': 27773, 'bedroom': 36137...\n",
       "100055    {'brand': 6174, 'new': 27773, 'bedroom': 36137...\n",
       "100058    {'brand': 6174, 'new': 27773, 'bedroom': 36137...\n",
       "100062    {'brand': 6174, 'new': 27773, 'bedroom': 36137...\n",
       "100063    {'brand': 6174, 'new': 27773, 'bedroom': 36137...\n",
       "100065    {'brand': 6174, 'new': 27773, 'bedroom': 36137...\n",
       "100066    {'brand': 6174, 'new': 27773, 'bedroom': 36137...\n",
       "10007     {'brand': 6174, 'new': 27773, 'bedroom': 36137...\n",
       "100071    {'brand': 6174, 'new': 27773, 'bedroom': 36137...\n",
       "100075    {'brand': 6174, 'new': 27773, 'bedroom': 36137...\n",
       "100076    {'brand': 6174, 'new': 27773, 'bedroom': 36137...\n",
       "100079    {'brand': 6174, 'new': 27773, 'bedroom': 36137...\n",
       "100081    {'brand': 6174, 'new': 27773, 'bedroom': 36137...\n",
       "                                ...                        \n",
       "99915     {'brand': 6174, 'new': 27773, 'bedroom': 36137...\n",
       "99917     {'brand': 6174, 'new': 27773, 'bedroom': 36137...\n",
       "99919     {'brand': 6174, 'new': 27773, 'bedroom': 36137...\n",
       "99921     {'brand': 6174, 'new': 27773, 'bedroom': 36137...\n",
       "99923     {'brand': 6174, 'new': 27773, 'bedroom': 36137...\n",
       "99924     {'brand': 6174, 'new': 27773, 'bedroom': 36137...\n",
       "99931     {'brand': 6174, 'new': 27773, 'bedroom': 36137...\n",
       "99933     {'brand': 6174, 'new': 27773, 'bedroom': 36137...\n",
       "99935     {'brand': 6174, 'new': 27773, 'bedroom': 36137...\n",
       "99937     {'brand': 6174, 'new': 27773, 'bedroom': 36137...\n",
       "9994      {'brand': 6174, 'new': 27773, 'bedroom': 36137...\n",
       "99953     {'brand': 6174, 'new': 27773, 'bedroom': 36137...\n",
       "99956     {'brand': 6174, 'new': 27773, 'bedroom': 36137...\n",
       "99960     {'brand': 6174, 'new': 27773, 'bedroom': 36137...\n",
       "99961     {'brand': 6174, 'new': 27773, 'bedroom': 36137...\n",
       "99964     {'brand': 6174, 'new': 27773, 'bedroom': 36137...\n",
       "99965     {'brand': 6174, 'new': 27773, 'bedroom': 36137...\n",
       "99966     {'brand': 6174, 'new': 27773, 'bedroom': 36137...\n",
       "99979     {'brand': 6174, 'new': 27773, 'bedroom': 36137...\n",
       "99980     {'brand': 6174, 'new': 27773, 'bedroom': 36137...\n",
       "99982     {'brand': 6174, 'new': 27773, 'bedroom': 36137...\n",
       "99984     {'brand': 6174, 'new': 27773, 'bedroom': 36137...\n",
       "99986     {'brand': 6174, 'new': 27773, 'bedroom': 36137...\n",
       "99987     {'brand': 6174, 'new': 27773, 'bedroom': 36137...\n",
       "99988     {'brand': 6174, 'new': 27773, 'bedroom': 36137...\n",
       "9999      {'brand': 6174, 'new': 27773, 'bedroom': 36137...\n",
       "99991     {'brand': 6174, 'new': 27773, 'bedroom': 36137...\n",
       "99992     {'brand': 6174, 'new': 27773, 'bedroom': 36137...\n",
       "99993     {'brand': 6174, 'new': 27773, 'bedroom': 36137...\n",
       "99994     {'brand': 6174, 'new': 27773, 'bedroom': 36137...\n",
       "Name: description, dtype: object"
      ]
     },
     "execution_count": 6,
     "metadata": {},
     "output_type": "execute_result"
    }
   ],
   "source": [
    "def get_freq(x):\n",
    "    \n",
    "    for word in x:\n",
    "        if word == ' ' or word in stopLex: continue\n",
    "        else : freq[word]=freq.get(word,0)+1\n",
    "    return freq  \n",
    "token_word.apply(get_freq)"
   ]
  },
  {
   "cell_type": "code",
   "execution_count": 7,
   "metadata": {
    "collapsed": false
   },
   "outputs": [],
   "source": [
    "# freq"
   ]
  },
  {
   "cell_type": "code",
   "execution_count": 8,
   "metadata": {
    "collapsed": false
   },
   "outputs": [
    {
     "data": {
      "text/plain": [
       "[('apart', 48530),\n",
       " ('thi', 45169),\n",
       " ('build', 37502),\n",
       " ('floor', 36184),\n",
       " ('websit', 36164),\n",
       " ('bedroom', 36137),\n",
       " ('redact', 35409),\n",
       " ('kitchen', 33399),\n",
       " ('new', 27773),\n",
       " ('locat', 26636),\n",
       " ('view', 26266),\n",
       " ('room', 26134),\n",
       " ('com', 25476),\n",
       " ('call', 23673),\n",
       " ('featur', 22230),\n",
       " ('live', 21037),\n",
       " ('renov', 20939),\n",
       " ('applianc', 20823),\n",
       " ('space', 20699),\n",
       " ('closet', 19672),\n",
       " ('bathroom', 18829),\n",
       " ('hardwood', 18533),\n",
       " ('larg', 18253),\n",
       " ('kagglemanag', 18242),\n",
       " ('renthop', 18242),\n",
       " ('unit', 17641),\n",
       " ('park', 17474),\n",
       " ('stainless', 17397),\n",
       " ('includ', 17278),\n",
       " ('window', 16618),\n",
       " ('steel', 16576),\n",
       " ('laundri', 16573),\n",
       " ('great', 16333),\n",
       " ('high', 15724),\n",
       " ('ceil', 15173),\n",
       " ('email', 15165),\n",
       " ('contact', 15100),\n",
       " ('full', 15026),\n",
       " ('beauti', 13725),\n",
       " ('doorman', 13398),\n",
       " ('size', 13112),\n",
       " ('restaur', 12885),\n",
       " ('one', 12885),\n",
       " ('marbl', 12575),\n",
       " ('fee', 12523),\n",
       " ('granit', 12062),\n",
       " ('light', 11818),\n",
       " ('area', 11690),\n",
       " ('spaciou', 11472),\n",
       " ('luxuri', 11385),\n",
       " ('fit', 11289),\n",
       " ('shop', 11269),\n",
       " ('text', 11230),\n",
       " ('dishwash', 11108),\n",
       " ('citi', 10956),\n",
       " ('train', 10910),\n",
       " ('elev', 10865),\n",
       " ('privat', 10717),\n",
       " ('york', 10576),\n",
       " ('center', 10266),\n",
       " ('bath', 9956),\n",
       " ('east', 9910),\n",
       " ('inform', 9841),\n",
       " ('access', 9772),\n",
       " ('amen', 9722),\n",
       " ('home', 9675),\n",
       " ('broker', 9571),\n",
       " ('walk', 9497),\n",
       " ('list', 9483),\n",
       " ('subway', 9448),\n",
       " ('avail', 9310),\n",
       " ('studio', 9210),\n",
       " ('offer', 9051),\n",
       " ('real', 8858),\n",
       " ('servic', 8788),\n",
       " ('top', 8714),\n",
       " ('block', 8570),\n",
       " ('central', 8357),\n",
       " ('washer', 8354),\n",
       " ('pleas', 8184),\n",
       " ('free', 7997),\n",
       " ('dryer', 7931),\n",
       " ('amaz', 7864),\n",
       " ('line', 7819),\n",
       " ('estat', 7788),\n",
       " ('storag', 7730),\n",
       " ('step', 7689),\n",
       " ('deck', 7656),\n",
       " ('schedul', 7600),\n",
       " ('pet', 7594),\n",
       " ('close', 7489),\n",
       " ('west', 7433),\n",
       " ('street', 7424),\n",
       " ('hour', 7327),\n",
       " ('bar', 7321),\n",
       " ('today', 7278),\n",
       " ('show', 7216),\n",
       " ('hous', 7169),\n",
       " ('counter', 7168),\n",
       " ('loung', 7066)]"
      ]
     },
     "execution_count": 8,
     "metadata": {},
     "output_type": "execute_result"
    }
   ],
   "source": [
    "from operator import itemgetter\n",
    "\n",
    "sortedByValue=sorted(freq.items(),key=itemgetter(1),reverse=True)\n",
    "sortedByValue[:100]\n"
   ]
  },
  {
   "cell_type": "code",
   "execution_count": null,
   "metadata": {
    "collapsed": true
   },
   "outputs": [],
   "source": []
  }
 ],
 "metadata": {
  "kernelspec": {
   "display_name": "Python 3",
   "language": "python",
   "name": "python3"
  },
  "language_info": {
   "codemirror_mode": {
    "name": "ipython",
    "version": 3
   },
   "file_extension": ".py",
   "mimetype": "text/x-python",
   "name": "python",
   "nbconvert_exporter": "python",
   "pygments_lexer": "ipython3",
   "version": "3.6.0"
  }
 },
 "nbformat": 4,
 "nbformat_minor": 2
}
